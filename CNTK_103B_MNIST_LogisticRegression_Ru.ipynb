{
 "cells": [
  {
   "cell_type": "code",
   "execution_count": 1,
   "metadata": {
    "collapsed": true
   },
   "outputs": [],
   "source": [
    "from IPython.display import Image"
   ]
  },
  {
   "cell_type": "markdown",
   "metadata": {
    "nbpresent": {
     "id": "29b9bd1d-766f-4422-ad96-de0accc1ce58"
    }
   },
   "source": [
    "# CNTK 103: Part B - Логический регрессионный анализ с MNIST\n",
    "\n",
    "Мы предполагаем, что вы успешно завершили CNTK 103 Part A.\n",
    "\n",
    "В этом уроке мы будем строить и обучать модель мультиномиальной логистической регрессии с использованием данных MNIST. Этот ноутбук предлагает рецепт с использованием API Python. Если вы ищете этот пример в BrainScript, посмотрите [здесь](https://github.com/Microsoft/CNTK/tree/release/2.2/Examples/Image/GettingStarted)\n",
    "\n",
    "## Введение\n",
    "\n",
    "\n",
    "**Проблема**:\n",
    "Optical Character Recognition (OCR) это исследование актуальной области, и существует большой спрос на её автоматизацию. Данные MNIST состоят из рукописных цифр с небольшим фоновым шумом, что делает его отличным набором данных для создания, экспериментирования и изучения моделей глубокого обучения с достаточно небольшими вычислительными ресурсами."
   ]
  },
  {
   "cell_type": "code",
   "execution_count": 2,
   "metadata": {},
   "outputs": [
    {
     "data": {
      "text/html": [
       "<img src=\"http://3.bp.blogspot.com/_UpN7DfJA0j4/TJtUBWPk0SI/AAAAAAAAABY/oWPMtmqJn3k/s1600/mnist_originals.png\" width=\"200\" height=\"200\"/>"
      ],
      "text/plain": [
       "<IPython.core.display.Image object>"
      ]
     },
     "execution_count": 2,
     "metadata": {},
     "output_type": "execute_result"
    }
   ],
   "source": [
    "# Рисунок 1\n",
    "Image(url= \"http://3.bp.blogspot.com/_UpN7DfJA0j4/TJtUBWPk0SI/AAAAAAAAABY/oWPMtmqJn3k/s1600/mnist_originals.png\", width=200, height=200)"
   ]
  },
  {
   "cell_type": "markdown",
   "metadata": {},
   "source": [
    "**Цель**:\n",
    "Наша цель - подготовить классификатор, который будет идентифицировать цифры в наборе данных MNIST. \n",
    "\n",
    "**Подход**:\n",
    "Используются те же 5 этапов, которые мы использовали в предыдущем учебнике: чтение данных, предварительная обработка данных, создание модели, изучение параметров модели и оценка (тестирование / прогнозирование) модели.\n",
    "- Чтение данных: мы будем использовать CNTK Text reader \n",
    "- Предварительная обработка данных: включена в часть A (suggested extension section). \n",
    "\n",
    "Остальные шаги идентичны CNTK 102. "
   ]
  },
  {
   "cell_type": "markdown",
   "metadata": {},
   "source": [
    "## Логический регрессионный анализ\n",
    "[Logistic Regression](https://en.wikipedia.org/wiki/Logistic_regression) (LR) это фундаментальный метод машинного обучения, который использует линейную взвешенную комбинацию признаков и генерирует прогнозы на основе вероятности разных классов.  \n",
    "​\n",
    "Существуют две основные формы LR: **Binary LR** (с одним выходом, который может предсказать два класса) и **multinomial LR** (с несколькими выходами, каждый из которых используется для прогнозирования одного класса).  \n",
    "\n",
    "![](http://www.cntk.ai/jup/cntk103b_TwoFormsOfLR-v3.png)"
   ]
  },
  {
   "cell_type": "markdown",
   "metadata": {},
   "source": [
    "В **Binary Logistic Regression** (см. Выше на рисунке выше) функции ввода масштабируются соответствующим весом и суммируются вместе.  Сумма передается через функцию сжатия (aka activation) и генерирует выход в [0,1].  Это выходное значение (которое можно рассматривать как вероятность) затем сравнивается с пороговым значением (например, 0,5) для создания двоичной метки (0 или 1).  Этот метод поддерживает только проблемы классификации с двумя выходными классами, называется двоичный LR.  В примере двоичного LR, показанном выше, функция [sigmoid][] используется как функция сжатия.\n",
    "\n",
    "[sigmoid]: https://en.wikipedia.org/wiki/Sigmoid_function"
   ]
  },
  {
   "cell_type": "markdown",
   "metadata": {},
   "source": [
    "В **Multinomial Linear Regression** (см. Нижнюю часть рисунка выше), используются 2 или более выходных узла, по одному для каждого класса выпуска, который должен быть предсказан. Каждый узел суммирования использует свой собственный набор весов для масштабирования входных функций и суммирования их. Вместо того, чтобы передавать суммированный вывод взвешенных входных признаков через функцию сигмовидного сжатия, выход часто пропускается через функцию [softmax][] (которая в дополнение к раздавливанию, подобно сигмоиду, softmax нормализует выходное значение каждого узла, используя сумму всех ненормализованных узлов). (Подробности в контексте изображения MNIST)\n",
    "\n",
    "В этом руководстве мы будем использовать многокомпонентную LR для классификации MNIST-цифр (0-9) с использованием 10 выходных узлов (по 1 для каждого из наших выходных классов).\n",
    "\n",
    "[softmax]: https://en.wikipedia.org/wiki/Softmax_function"
   ]
  },
  {
   "cell_type": "code",
   "execution_count": 3,
   "metadata": {
    "collapsed": true,
    "nbpresent": {
     "id": "138d1a78-02e2-4bd6-a20e-07b83f303563"
    }
   },
   "outputs": [],
   "source": [
    "# Загрузка необходимых компонентов\n",
    "from __future__ import print_function # Используйте определение функции из будущей версии (скажем 3.x из 2.7 interpreter)\n",
    "import matplotlib.image as mpimg\n",
    "import matplotlib.pyplot as plt\n",
    "import numpy as np\n",
    "import sys\n",
    "import os\n",
    "\n",
    "import cntk as C\n",
    "import cntk.tests.test_utils\n",
    "cntk.tests.test_utils.set_device_from_pytest_env() # (требуется только для нашей системы сборки)\n",
    "C.cntk_py.set_fixed_random_seed(1) # перемешаем, чтобы примеры LR не повторялись\n",
    "\n",
    "%matplotlib inline"
   ]
  },
  {
   "cell_type": "markdown",
   "metadata": {},
   "source": [
    "## Инициализация"
   ]
  },
  {
   "cell_type": "code",
   "execution_count": 4,
   "metadata": {
    "collapsed": true
   },
   "outputs": [],
   "source": [
    "# Определение сети\n",
    "input_dim = 784\n",
    "num_output_classes = 10"
   ]
  },
  {
   "cell_type": "markdown",
   "metadata": {},
   "source": [
    "## Чтение данных\n",
    "\n",
    "В этом уроке мы используем данные MNIST, которые вы загрузили, используя ноутбук CNTK_103A_MNIST_DataLoader. Набор данных содержит 60 000 обучающих изображений и 10 000 тестовых изображений, каждое изображение которых составляет 28 х 28 пикселей. Таким образом, количество функций равно 784 (= 28 x 28 пикселей), 1 на пиксель. Переменная  `num_output_classes` установлена в 10, соответствующая количеству цифр (0-9) в наборе данных.\n",
    "\n",
    "Данные находятся в следующем формате:\n",
    "\n",
    "    |labels 0 0 0 1 0 0 0 0 0 0 |features 0 0 0 0 ... \n",
    "                                                  (784 integers each representing a pixel)\n",
    "    \n",
    "В этом уроке мы будем использовать пиксели изображения, соответствующие целочисленному потоку с именем \"features\".  Мы определяем функцию  `create_reader` для чтения данных обучения и тестирования с помощью [CTF deserializer](https://cntk.ai/pythondocs/cntk.io.html?highlight=ctfdeserializer#cntk.io.CTFDeserializer). Метки [1-hot encoded](https://en.wikipedia.org/wiki/One-hot). Обратитесь к учебнику CNTK 103A для визуализации формата данных. "
   ]
  },
  {
   "cell_type": "code",
   "execution_count": 5,
   "metadata": {
    "collapsed": true
   },
   "outputs": [],
   "source": [
    "# Прочтите текст в формате CTF (как упоминалось выше), используя десериализатор CTF из файла\n",
    "def create_reader(path, is_training, input_dim, num_label_classes):\n",
    "    \n",
    "    labelStream = C.io.StreamDef(field='labels', shape=num_label_classes, is_sparse=False)\n",
    "    featureStream = C.io.StreamDef(field='features', shape=input_dim, is_sparse=False)\n",
    "    \n",
    "    deserailizer = C.io.CTFDeserializer(path, C.io.StreamDefs(labels = labelStream, features = featureStream))\n",
    "            \n",
    "    return C.io.MinibatchSource(deserailizer,\n",
    "       randomize = is_training, max_sweeps = C.io.INFINITELY_REPEAT if is_training else 1)"
   ]
  },
  {
   "cell_type": "code",
   "execution_count": 6,
   "metadata": {},
   "outputs": [
    {
     "name": "stdout",
     "output_type": "stream",
     "text": [
      "Data directory is data\\MNIST\n"
     ]
    }
   ],
   "source": [
    "# Убедитесь, что данные обучения и тестирования созданы и доступны для этого учебника.\n",
    "# Мы выполняем поиск в двух местах в наборе инструментов для кэшированного набора данных MNIST.\n",
    "data_found = False\n",
    "\n",
    "for data_dir in [os.path.join(\"..\", \"Examples\", \"Image\", \"DataSets\", \"MNIST\"),\n",
    "                 os.path.join(\"data\", \"MNIST\")]:\n",
    "    train_file = os.path.join(data_dir, \"Train-28x28_cntk_text.txt\")\n",
    "    test_file = os.path.join(data_dir, \"Test-28x28_cntk_text.txt\")\n",
    "    if os.path.isfile(train_file) and os.path.isfile(test_file):\n",
    "        data_found = True\n",
    "        break\n",
    "        \n",
    "if not data_found:\n",
    "    raise ValueError(\"Please generate the data by completing CNTK 103 Part A\")\n",
    "    \n",
    "print(\"Data directory is {0}\".format(data_dir))"
   ]
  },
  {
   "cell_type": "markdown",
   "metadata": {},
   "source": [
    "## Создание модели\n",
    "\n",
    "Сеть логистической регрессии (LR) представляет собой простой строительный блок, который эффективно задействовал многие ML\n",
    "приложений за последнее десятилетие. На следующем рисунке представлена модель в контексте данных MNIST.\n",
    "\n",
    "![](https://www.cntk.ai/jup/cntk103b_MNIST_LR.png)\n",
    "\n",
    "LR представляет собой простую линейную модель, которая принимает в качестве входных данных вектор чисел, описывающих свойства того, что мы классифицируем (также известный как вектор-функция, $\\bf \\vec{x}$, пиксели на цифровом изображении ввода MNIST) и ивыводит  *evidence* ($z$). Для каждой из 10 цифр имеется вектор весов, соответствующий входным пикселям, как показано на рисунке. Эти 10 весовых векторов определяют весовую матрицу ($\\bf {W}$) с размером 10 х 784. Каждая особенность во входном слое связана с узлом суммирования на соответствующий вес $w$ (индивидуальные значения веса из $\\bf{W}$ матрицы). Обратите внимание, что существует 10 таких узлов, каждый из которых соответствует каждой цифре. "
   ]
  },
  {
   "cell_type": "markdown",
   "metadata": {},
   "source": [
    "Первый шаг - вычислить доказательства для наблюдения.\n",
    "\n",
    "$$\\vec{z} = \\textbf{W} \\bf \\vec{x}^T + \\vec{b}$$ \n",
    "\n",
    "где $\\bf{W}$ - весовая матрица размерности 10 x 784, а $\\vec{b}$ известна как вектор  *bias* с длиной 10, по одной для каждой цифры. \n",
    "\n",
    "Доказательства ($\\vec{z}$) не зажата (следовательно, нет активации). Вместо этого выход нормализуется с помощью функции [softmax](https://en.wikipedia.org/wiki/Softmax_function) , так что все выходы суммируются до значения 1, тем самым предоставляя вероятностную итерацию предсказанию. В CNTK мы используем операцию softmax которая сочетается с функцией cross entropy error ."
   ]
  },
  {
   "cell_type": "markdown",
   "metadata": {},
   "source": [
    "Сетевой вход и выход:\n",
    "- **input** переменная (ключевая концепция CNTK): \n",
    ">Переменная ** input ** - это контейнер, в котором мы заполняем различные наблюдения в этом случае пикселями изображения во время обучения модели (a.k.a.training) и оценки модели (a.k.a. testing). Таким образом, форма  `input` must match the shape of the data that will be provided.  должна соответствовать форме данных, которые будут предоставлены. Например, когда данные представляют собой изображения с высотой 10 пикселей и шириной 5 пикселей, размер функции ввода будет равен 50 (что соответствует общему числу пикселей изображения). Подробнее о данных и их размерах можно найти в отдельных учебниках.\n",
    "\n",
    "\n",
    "**Вопрос** Каков размер ввода выбранной вами модели? Это имеет фундаментальное значение для нашего понимания переменных в представлении сети или модели в CNTK."
   ]
  },
  {
   "cell_type": "code",
   "execution_count": 7,
   "metadata": {
    "collapsed": true
   },
   "outputs": [],
   "source": [
    "input = C.input_variable(input_dim)\n",
    "label = C.input_variable(num_output_classes)"
   ]
  },
  {
   "cell_type": "markdown",
   "metadata": {},
   "source": [
    "## Настройка логистической регрессии\n",
    "\n",
    "Модуль слоев CNTK предоставляет функцию Dense, которая создает полностью подключенный уровень, который выполняет вышеупомянутые операции взвешенного ввода суммирования и смещения.  "
   ]
  },
  {
   "cell_type": "code",
   "execution_count": 8,
   "metadata": {
    "collapsed": true
   },
   "outputs": [],
   "source": [
    "def create_model(features):\n",
    "    with C.layers.default_options(init = C.glorot_uniform()):\n",
    "        r = C.layers.Dense(num_output_classes, activation = None)(features)\n",
    "        return r"
   ]
  },
  {
   "cell_type": "markdown",
   "metadata": {},
   "source": [
    "`z` будет использоваться для представления вывода сети."
   ]
  },
  {
   "cell_type": "code",
   "execution_count": 9,
   "metadata": {
    "collapsed": true
   },
   "outputs": [],
   "source": [
    "# Sвведите значение 0-1, разделив каждый пиксель на 255.\n",
    "z = create_model(input/255.0)"
   ]
  },
  {
   "cell_type": "markdown",
   "metadata": {},
   "source": [
    "### Параметры модели обучения\n",
    "\n",
    "Как и в предыдущем учебнике, мы используем функцию `softmax` для сопоставления накопленных доказательств или активации с распределением вероятности по классам (подробности [softmax function](http://cntk.ai/pythondocs/cntk.ops.html#cntk.ops.softmax) и другие функции [activation](https://cntk.ai/pythondocs/cntk.layers.layers.html#cntk.layers.layers.Activation) )."
   ]
  },
  {
   "cell_type": "markdown",
   "metadata": {},
   "source": [
    "## Обучение\n",
    "\n",
    "Подобно CNTK 102, мы используем минимизацию кросс-энтропии между меткой и прогнозируемой вероятностью сетью. Если эта терминология звучит незнакомо для вас, обратитесь к CNTK 102 для изучения. "
   ]
  },
  {
   "cell_type": "code",
   "execution_count": 10,
   "metadata": {
    "collapsed": true
   },
   "outputs": [],
   "source": [
    "loss = C.cross_entropy_with_softmax(z, label)"
   ]
  },
  {
   "cell_type": "markdown",
   "metadata": {},
   "source": [
    "### Обучение\n",
    "\n",
    "Чтобы оценить классификацию, можно сравнить выход сети, который для каждого наблюдения излучает вектор доказательств (может быть преобразован в вероятности с использованием функций `softmax`) с размерностью, равной числу классов. "
   ]
  },
  {
   "cell_type": "code",
   "execution_count": 11,
   "metadata": {
    "collapsed": true
   },
   "outputs": [],
   "source": [
    "label_error = C.classification_error(z, label)"
   ]
  },
  {
   "cell_type": "markdown",
   "metadata": {},
   "source": [
    "### Настройка обучения\n",
    "\n",
    "Тренер -\"trainer\" стремится уменьшить функцию `loss` различными подходами к оптимизации, [Stochastic Gradient Descent](https://en.wikipedia.org/wiki/Stochastic_gradient_descent) (`sgd`) который является одним из самых популярных. Как правило, можно начинать со случайной инициализации параметров модели. Оптимизатор `sgd` вычислял бы `loss` или ошибку между прогнозируемой меткой против соответствующей метки истины и используя  [gradient-decent](http://www.statisticsviews.com/details/feature/5722691/Getting-to-the-Bottom-of-Regression-with-Gradient-Descent.html) генерирует новые параметры модели набора в одной итерации. \n",
    "\n",
    "Вышеупомянутое обновление параметров модели с использованием одного наблюдения за раз привлекательно, поскольку для загрузки в память не требуется весь набор данных (all observation) а также требуется вычисление градиента за меньшее количество данных, что позволяет проводить обучение на больших наборах данных. Тем не менее, обновления, созданные с использованием одного образца наблюдения за раз, могут сильно различаться между итерациями. Промежуточное основание - загрузить небольшой набор наблюдений и использовать среднее значение `loss` ли ошибку из этого набора для обновления параметров модели. Это подмножество называется *minibatch*.\n",
    "\n",
    "С помощью мини-отсеков мы часто выбираем наблюдение из более крупного набора учебных материалов. Мы повторяем процесс обновления параметров модели с использованием различной комбинации учебных образцов и в течение периода времени минимизируем `loss` (и ошибку). Когда инкрементные частоты ошибок больше не изменяются значительно или после заданного количества максимальных минимумов для тренировки, мы утверждаем, что наша модель обучена.\n",
    "\n",
    "Один из ключевых параметров [optimization](https://en.wikipedia.org/wiki/Category:Convex_optimization) называется  `learning_rate`. На данный момент мы можем рассматривать его как фактор масштабирования, который модулирует, насколько мы меняем параметры на любой итерации. Мы рассмотрим более подробные сведения в следующем учебном пособии.\n",
    "С этой информацией мы готовы создать нашего тренера trainer. "
   ]
  },
  {
   "cell_type": "code",
   "execution_count": 12,
   "metadata": {
    "collapsed": true
   },
   "outputs": [],
   "source": [
    "# Создайте экземпляр объекта trainer  для обучения модели\n",
    "learning_rate = 0.2\n",
    "lr_schedule = C.learning_rate_schedule(learning_rate, C.UnitType.minibatch)\n",
    "learner = C.sgd(z.parameters, lr_schedule)\n",
    "trainer = C.Trainer(z, (loss, label_error), [learner])"
   ]
  },
  {
   "cell_type": "markdown",
   "metadata": {},
   "source": [
    "Сначала создадим некоторые вспомогательные функции, которые понадобятся для визуализации различных функций, связанных с обучением."
   ]
  },
  {
   "cell_type": "code",
   "execution_count": 13,
   "metadata": {
    "collapsed": true
   },
   "outputs": [],
   "source": [
    "# Определите функцию полезности для вычисления скользящей средней суммы.\n",
    "# Более эффективная реализация возможна с помощью функции np.cumsum() \n",
    "def moving_average(a, w=5):\n",
    "    if len(a) < w:\n",
    "        return a[:]    # Нужно отправить копию массива\n",
    "    return [val if idx < w else sum(a[(idx-w):idx])/w for idx, val in enumerate(a)]\n",
    "\n",
    "\n",
    "# Определяет утилиту, которая печатает ход обучения\n",
    "def print_training_progress(trainer, mb, frequency, verbose=1):\n",
    "    training_loss = \"NA\"\n",
    "    eval_error = \"NA\"\n",
    "\n",
    "    if mb%frequency == 0:\n",
    "        training_loss = trainer.previous_minibatch_loss_average\n",
    "        eval_error = trainer.previous_minibatch_evaluation_average\n",
    "        if verbose: \n",
    "            print (\"Minibatch: {0}, Loss: {1:.4f}, Error: {2:.2f}%\".format(mb, training_loss, eval_error*100))\n",
    "        \n",
    "    return mb, training_loss, eval_error"
   ]
  },
  {
   "cell_type": "markdown",
   "metadata": {},
   "source": [
    "### Запуск trainer\n",
    "\n",
    "Теперь мы готовы обучать нашу полностью связанную нейронную сеть. Мы хотим решить, какие данные нам нужны для обучения в учебном движке.\n",
    "\n",
    "В этом примере каждая итерация оптимизатора будет работать с образцами размером `minibatch_size`.  Мы хотели бы тренироваться во всех 60000 наблюдениях. Кроме того, мы сделаем несколько проходов через данные, заданные переменной `num_sweeps_to_train_with`.  С помощью этих параметров мы можем продолжить обучение нашей простой сети."
   ]
  },
  {
   "cell_type": "code",
   "execution_count": 28,
   "metadata": {
    "collapsed": true
   },
   "outputs": [],
   "source": [
    "# Инициализация параметров для trainer\n",
    "minibatch_size = 64\n",
    "num_samples_per_sweep = 60000\n",
    "num_sweeps_to_train_with = 10\n",
    "num_minibatches_to_train = (num_samples_per_sweep * num_sweeps_to_train_with) / minibatch_size"
   ]
  },
  {
   "cell_type": "code",
   "execution_count": 29,
   "metadata": {},
   "outputs": [
    {
     "name": "stdout",
     "output_type": "stream",
     "text": [
      "Minibatch: 0, Loss: 0.1209, Error: 4.69%\n",
      "Minibatch: 500, Loss: 0.3416, Error: 9.38%\n",
      "Minibatch: 1000, Loss: 0.1914, Error: 4.69%\n",
      "Minibatch: 1500, Loss: 0.3332, Error: 12.50%\n",
      "Minibatch: 2000, Loss: 0.1324, Error: 6.25%\n",
      "Minibatch: 2500, Loss: 0.1658, Error: 4.69%\n",
      "Minibatch: 3000, Loss: 0.0827, Error: 1.56%\n",
      "Minibatch: 3500, Loss: 0.2627, Error: 9.38%\n",
      "Minibatch: 4000, Loss: 0.3514, Error: 6.25%\n",
      "Minibatch: 4500, Loss: 0.2312, Error: 6.25%\n",
      "Minibatch: 5000, Loss: 0.1485, Error: 3.12%\n",
      "Minibatch: 5500, Loss: 0.1042, Error: 3.12%\n",
      "Minibatch: 6000, Loss: 0.1252, Error: 3.12%\n",
      "Minibatch: 6500, Loss: 0.2412, Error: 7.81%\n",
      "Minibatch: 7000, Loss: 0.1363, Error: 7.81%\n",
      "Minibatch: 7500, Loss: 0.2782, Error: 7.81%\n",
      "Minibatch: 8000, Loss: 0.0896, Error: 3.12%\n",
      "Minibatch: 8500, Loss: 0.1449, Error: 6.25%\n",
      "Minibatch: 9000, Loss: 0.1024, Error: 3.12%\n"
     ]
    }
   ],
   "source": [
    "# Создайте reader для набора данных обучения\n",
    "reader_train = create_reader(train_file, True, input_dim, num_output_classes)\n",
    "\n",
    "# Сопоставьте потоки данных со входом и метками\n",
    "input_map = {\n",
    "    label  : reader_train.streams.labels,\n",
    "    input  : reader_train.streams.features\n",
    "} \n",
    "\n",
    "# Запуск trainerи обучение модели\n",
    "training_progress_output_freq = 500\n",
    "\n",
    "plotdata = {\"batchsize\":[], \"loss\":[], \"error\":[]}\n",
    "\n",
    "for i in range(0, int(num_minibatches_to_train)):\n",
    "    \n",
    "    # Прочитайте mini batch из файла данных обучения\n",
    "    data = reader_train.next_minibatch(minibatch_size, input_map = input_map)\n",
    "    \n",
    "    trainer.train_minibatch(data)\n",
    "    batchsize, loss, error = print_training_progress(trainer, i, training_progress_output_freq, verbose=1)\n",
    "    \n",
    "    if not (loss == \"NA\" or error ==\"NA\"):\n",
    "        plotdata[\"batchsize\"].append(batchsize)\n",
    "        plotdata[\"loss\"].append(loss)\n",
    "        plotdata[\"error\"].append(error)"
   ]
  },
  {
   "cell_type": "markdown",
   "metadata": {},
   "source": [
    "Построим ошибки над различными обучающими minibatches.  Обратите внимание, что по мере того, как мы повторяем потери при тренировке, мы видим некоторые промежуточные результтаты. \n",
    "\n",
    "Следовательно, мы используем более мелкие minibatches, и использование `sgd` позволяет нам иметь большую масштабируемость при выполнении больших наборов данных."
   ]
  },
  {
   "cell_type": "code",
   "execution_count": 30,
   "metadata": {},
   "outputs": [
    {
     "data": {
      "image/png": "[encoded data removed]",
      "text/plain": [
       "<matplotlib.figure.Figure at 0x1a2639e0eb8>"
      ]
     },
     "metadata": {},
     "output_type": "display_data"
    },
    {
     "data": {
      "image/png": "[encoded data removed]",
      "text/plain": [
       "<matplotlib.figure.Figure at 0x1a263a0ca90>"
      ]
     },
     "metadata": {},
     "output_type": "display_data"
    }
   ],
   "source": [
    "# Вычислить скользящую среднюю потерю, чтобы сгладить шум в SGD\n",
    "plotdata[\"avgloss\"] = moving_average(plotdata[\"loss\"])\n",
    "plotdata[\"avgerror\"] = moving_average(plotdata[\"error\"])\n",
    "\n",
    "# Визуализируем потерю обучения и ошибку обучения\n",
    "import matplotlib.pyplot as plt\n",
    "\n",
    "plt.figure(1)\n",
    "plt.subplot(211)\n",
    "plt.plot(plotdata[\"batchsize\"], plotdata[\"avgloss\"], 'b--')\n",
    "plt.xlabel('Minibatch number')\n",
    "plt.ylabel('Loss')\n",
    "plt.title('Minibatch run vs. Training loss')\n",
    "\n",
    "plt.show()\n",
    "\n",
    "plt.subplot(212)\n",
    "plt.plot(plotdata[\"batchsize\"], plotdata[\"avgerror\"], 'r--')\n",
    "plt.xlabel('Minibatch number')\n",
    "plt.ylabel('Label Prediction Error')\n",
    "plt.title('Minibatch run vs. Label Prediction Error')\n",
    "plt.show()"
   ]
  },
  {
   "cell_type": "markdown",
   "metadata": {},
   "source": [
    "### Оценка выполнения / Тестирование\n",
    "\n",
    "Теперь, когда мы обучили сеть, давайте оценим подготовленную сеть по тестовым данным. Это делается с помощью `trainer.test_minibatch`."
   ]
  },
  {
   "cell_type": "code",
   "execution_count": 31,
   "metadata": {},
   "outputs": [
    {
     "name": "stdout",
     "output_type": "stream",
     "text": [
      "Average test error: 7.25%\n"
     ]
    }
   ],
   "source": [
    "# Прочтите данные обучения\n",
    "reader_test = create_reader(test_file, False, input_dim, num_output_classes)\n",
    "\n",
    "test_input_map = {\n",
    "    label  : reader_test.streams.labels,\n",
    "    input  : reader_test.streams.features,\n",
    "}\n",
    "\n",
    "# Данные испытаний для обученной модели\n",
    "test_minibatch_size = 512\n",
    "num_samples = 10000\n",
    "num_minibatches_to_test = num_samples // test_minibatch_size\n",
    "test_result = 0.0\n",
    "\n",
    "for i in range(num_minibatches_to_test):\n",
    "    \n",
    "    # Мы загружаем тестовые данные пакетами, указанными test_minibatch_size\n",
    "    # Каждая точка данных вminibatch представляет собой изображение цифры MNIST размером 784\n",
    "    # с одним пикселем на измерение, которое мы будем кодировать / декодировать \n",
    "    # с помощью обучаемой модели.\n",
    "    data = reader_test.next_minibatch(test_minibatch_size,\n",
    "                                      input_map = test_input_map)\n",
    "\n",
    "    eval_error = trainer.test_minibatch(data)\n",
    "    test_result = test_result + eval_error\n",
    "\n",
    "# Среднее значение evaluation errors всех тестовых minibatches\n",
    "print(\"Average test error: {0:.2f}%\".format(test_result*100 / num_minibatches_to_test))"
   ]
  },
  {
   "cell_type": "markdown",
   "metadata": {},
   "source": [
    "Обратите внимание: эта ошибка очень сопоставима с нашей ошибкой обучения, указывающей на то, что наша модель имеет хорошую ошибку \"out of sample\"  a.k.a. generalization error. Это означает, что наша модель может очень эффективно справляться с ранее невидимыми наблюдениями (во время учебного процесса). Это ключ, чтобы избежать явления переобучения."
   ]
  },
  {
   "cell_type": "markdown",
   "metadata": {},
   "source": [
    "До сих пор мы имеем дело с совокупными мерами ошибки. Возьмем теперь вероятности, связанные с отдельными точками данных. Для каждого наблюдения функция `eval` возвращает распределение вероятности по всем классам. Классификатор обучается распознавать цифры, поэтому имеет 10 классов. Сначала проложим сетевой выход через функцию  `softmax` . Это сопоставляет агрегированные активации по сети с вероятностями по 10 классам."
   ]
  },
  {
   "cell_type": "code",
   "execution_count": 32,
   "metadata": {
    "collapsed": true
   },
   "outputs": [],
   "source": [
    "out = C.softmax(z)"
   ]
  },
  {
   "cell_type": "markdown",
   "metadata": {},
   "source": [
    "Обратимся к небольшому minibatch из тестовых данных."
   ]
  },
  {
   "cell_type": "code",
   "execution_count": 33,
   "metadata": {
    "collapsed": true
   },
   "outputs": [],
   "source": [
    "# Прочтите данные для оценки\n",
    "reader_eval = create_reader(test_file, False, input_dim, num_output_classes)\n",
    "\n",
    "eval_minibatch_size = 25\n",
    "eval_input_map = {input: reader_eval.streams.features} \n",
    "\n",
    "data = reader_test.next_minibatch(eval_minibatch_size, input_map = test_input_map)\n",
    "\n",
    "img_label = data[label].asarray()\n",
    "img_data = data[input].asarray()\n",
    "predicted_label_prob = [out.eval(img_data[i]) for i in range(len(img_data))]"
   ]
  },
  {
   "cell_type": "code",
   "execution_count": 34,
   "metadata": {
    "collapsed": true
   },
   "outputs": [],
   "source": [
    "# Найдите индекс с максимальным значением как для предсказанной, так и для основной истины\n",
    "pred = [np.argmax(predicted_label_prob[i]) for i in range(len(predicted_label_prob))]\n",
    "gtlabel = [np.argmax(img_label[i]) for i in range(len(img_label))]"
   ]
  },
  {
   "cell_type": "code",
   "execution_count": 35,
   "metadata": {},
   "outputs": [
    {
     "name": "stdout",
     "output_type": "stream",
     "text": [
      "Label    : [4, 5, 6, 7, 8, 9, 7, 4, 6, 1, 4, 0, 9, 9, 3, 7, 8, 4, 7, 5, 8, 5, 3, 2, 2]\n",
      "Predicted: [4, 6, 6, 7, 5, 9, 7, 4, 6, 1, 4, 0, 4, 9, 3, 7, 1, 2, 7, 5, 8, 6, 3, 2, 2]\n"
     ]
    }
   ],
   "source": [
    "print(\"Label    :\", gtlabel[:25])\n",
    "print(\"Predicted:\", pred)"
   ]
  },
  {
   "cell_type": "markdown",
   "metadata": {},
   "source": [
    "Давайте визуализируем некоторые результаты"
   ]
  },
  {
   "cell_type": "code",
   "execution_count": 37,
   "metadata": {},
   "outputs": [
    {
     "name": "stdout",
     "output_type": "stream",
     "text": [
      "Image Label:  4\n"
     ]
    },
    {
     "data": {
      "image/png": "[encoded data removed]",
      "text/plain": [
       "<matplotlib.figure.Figure at 0x1a263a7e518>"
      ]
     },
     "metadata": {},
     "output_type": "display_data"
    }
   ],
   "source": [
    "# Визуализируем случайное изображение\n",
    "sample_number = 10\n",
    "plt.imshow(img_data[sample_number].reshape(28,28), cmap=\"gray_r\")\n",
    "plt.axis('off')\n",
    "\n",
    "img_gt, img_pred = gtlabel[sample_number], pred[sample_number]\n",
    "print(\"Image Label: \", img_pred)"
   ]
  },
  {
   "cell_type": "markdown",
   "metadata": {
    "collapsed": true
   },
   "source": [
    "**Задание**\n",
    "-  Попробуйте изучить, как ведет себя классификатор с разными параметрами, например. изменение параметра `minibatch_size` т 25 до 64 или 128. Что происходит с частотой ошибок? Как ошибка сравнивается с логистическим классификатором регрессии?\n",
    "- Попробуйте увеличить количество эпох\n",
    "- Попробуйте изменить сеть, чтобы снизить частоту ошибок обучения? Когда происходит *overfitting* переобучение?"
   ]
  },
  {
   "cell_type": "code",
   "execution_count": null,
   "metadata": {
    "collapsed": true
   },
   "outputs": [],
   "source": []
  }
 ],
 "metadata": {
  "anaconda-cloud": {},
  "kernelspec": {
   "display_name": "Python [conda env:py35]",
   "language": "python",
   "name": "conda-env-py35-py"
  },
  "language_info": {
   "codemirror_mode": {
    "name": "ipython",
    "version": 3
   },
   "file_extension": ".py",
   "mimetype": "text/x-python",
   "name": "python",
   "nbconvert_exporter": "python",
   "pygments_lexer": "ipython3",
   "version": "3.5.4"
  }
 },
 "nbformat": 4,
 "nbformat_minor": 1
}
